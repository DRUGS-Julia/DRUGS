{
 "cells": [
  {
   "cell_type": "code",
   "execution_count": 2,
   "metadata": {},
   "outputs": [
    {
     "name": "stdout",
     "output_type": "stream",
     "text": [
      "Enter a,b,c:1.0,3,1\n",
      "The roots are  -0.3819660112501051 and -2.618033988749895\n"
     ]
    }
   ],
   "source": [
    "import math\n",
    "a,b,c = eval(input('Enter a,b,c:'))\n",
    "m = b**2-4*a*c\n",
    "if m>0:\n",
    "    r1 = (math.sqrt(b**2-4*a*c)-b)/(2*a)\n",
    "    r2 = (-math.sqrt(b**2-4*a*c)-b)/(2*a)\n",
    "    print('The roots are ',r1,'and',r2)\n",
    "elif m==0:\n",
    "    r = (-b)/(2*a)\n",
    "    print('The root is ',r)\n",
    "else:\n",
    "    print('The equation has no real roots')"
   ]
  },
  {
   "cell_type": "code",
   "execution_count": 3,
   "metadata": {},
   "outputs": [
    {
     "name": "stdout",
     "output_type": "stream",
     "text": [
      "3 10\n",
      "Please input number:13\n",
      "true\n"
     ]
    }
   ],
   "source": [
    "import random\n",
    "r1 = random.randint(1,100)\n",
    "r2 = random.randint(1,100)\n",
    "print(r1,r2)\n",
    "\n",
    "q = int(input('Please input number:'))\n",
    "s = r1 + r2\n",
    "if q==s:\n",
    "    print('true')\n",
    "else:\n",
    "    print('false')"
   ]
  },
  {
   "cell_type": "code",
   "execution_count": 5,
   "metadata": {},
   "outputs": [
    {
     "name": "stdout",
     "output_type": "stream",
     "text": [
      "Enter today’s day:0\n",
      "Enter the number of days elapsed since today:31\n",
      "Today is  Sunday and the future day is Wednesday\n"
     ]
    }
   ],
   "source": [
    "i = eval(input('Enter today’s day:'))\n",
    "f = eval(input('Enter the number of days elapsed since today:'))\n",
    "x = (f+i)%7\n",
    "dd = ['Sunday','Monday','Tuesday','Wednesday','Thursday','Friday','Saturday']\n",
    "print('Today is ',dd[i],'and the future day is',dd[x])  "
   ]
  },
  {
   "cell_type": "code",
   "execution_count": 6,
   "metadata": {},
   "outputs": [
    {
     "name": "stdout",
     "output_type": "stream",
     "text": [
      ":56,34,44\n",
      "34 44 56\n"
     ]
    }
   ],
   "source": [
    "i,m,n = eval(input(':'))\n",
    "if i<m<n:\n",
    "    print(i,m,n)\n",
    "elif i<n<m:\n",
    "    print(i,n,m)\n",
    "elif m<i<n:\n",
    "    print(m,i,n)\n",
    "elif n<i<m:\n",
    "    print(n,i,m)\n",
    "elif n<m<i:\n",
    "    print(n,m,i)\n",
    "else:\n",
    "    print(m,n,i)"
   ]
  },
  {
   "cell_type": "code",
   "execution_count": 2,
   "metadata": {},
   "outputs": [
    {
     "name": "stdout",
     "output_type": "stream",
     "text": [
      "Enter weight and price for package 1:50,24.59\n",
      "Enter weight and price for package 2:25,11.99\n",
      "Package 2 has the better price\n"
     ]
    }
   ],
   "source": [
    "w1,p1 = eval(input('Enter weight and price for package 1:'))\n",
    "w2,p2 = eval(input('Enter weight and price for package 2:'))\n",
    "i1 = p1 / w1\n",
    "i2 = p2 / w2\n",
    "if i1 <= i2:\n",
    "    print('Package 1 has the better price')\n",
    "else:\n",
    "    print('Package 2 has the better price')"
   ]
  },
  {
   "cell_type": "code",
   "execution_count": 1,
   "metadata": {},
   "outputs": [
    {
     "name": "stdout",
     "output_type": "stream",
     "text": [
      "请输入月份：2\n",
      "请输入年份：2012\n",
      "这个月有： 29 天\n"
     ]
    }
   ],
   "source": [
    "month = eval(input('请输入月份：'))\n",
    "year = eval(input('请输入年份：'))\n",
    "if (year%4==0  and year is not year%100!=0) or (year%400==0):\n",
    "    rn=[0,31,29,31,30,31,30,31,31,30,31,30,31]\n",
    "    print('这个月有：',rn[month],'天')\n",
    "else:\n",
    "    rn=[0,31,28,31,30,31,30,31,31,30,31,30,31]\n",
    "    print('这个月有：',rn[month],'天')"
   ]
  },
  {
   "cell_type": "code",
   "execution_count": 3,
   "metadata": {},
   "outputs": [
    {
     "name": "stdout",
     "output_type": "stream",
     "text": [
      "please input mian:0\n",
      "true\n"
     ]
    }
   ],
   "source": [
    "import random\n",
    "r = random.randint(0,1)\n",
    "m = eval(input('please input mian:'))\n",
    "if m != r:\n",
    "    print('false')\n",
    "else:\n",
    "    print('true')"
   ]
  },
  {
   "cell_type": "code",
   "execution_count": 5,
   "metadata": {},
   "outputs": [
    {
     "name": "stdout",
     "output_type": "stream",
     "text": [
      "输入年份：2012\n",
      "输入月份：5\n",
      "输入当前月份的某天：12\n",
      "Day of the week is 星期六\n"
     ]
    }
   ],
   "source": [
    "year = eval(input('输入年份：'))\n",
    "months = eval(input('输入月份：'))\n",
    "days = eval(input('输入当前月份的某天：'))\n",
    "hdayDict = {0:'星期六',1:'星期日', 2: '星期一', 3: '星期二', 4: '星期三', 5: '星期四', 6: '星期五'}\n",
    "monDict = {1: '13', 2: '14', 3: '3', 4: '4', 5: '5', 6: '6', 7: '7', 8: '8', 9: '9', 10: '10', \\\n",
    "             11: '11', 12: '12'}\n",
    "if months == 1 or months == 2:\n",
    "    year = year - 1 \n",
    "shijishu = year // 10\n",
    "0\n",
    "shijiyear = year % 100\n",
    "h = (days + (26 * (eval(monDict[months]) + 1)) // 10 + shijiyear + shijiyear // 4 + shijishu // 4 + 5 * shijishu) % 7\n",
    "print('Day of the week is ' + hdayDict[h])"
   ]
  },
  {
   "cell_type": "code",
   "execution_count": 12,
   "metadata": {},
   "outputs": [
    {
     "name": "stdout",
     "output_type": "stream",
     "text": [
      "The card you picked is  : 黑桃 3\n"
     ]
    }
   ],
   "source": [
    "import random\n",
    "a = random.randint(0,12)\n",
    "b = random.randint(0,3)\n",
    "n = ['Ace',2,3,4,5,6,7,8,9,10,'Jack','Queen','King']\n",
    "m = ['梅花','红桃','方块','黑桃']\n",
    "print('The card you picked is  :',m[b],n[a])"
   ]
  },
  {
   "cell_type": "code",
   "execution_count": 18,
   "metadata": {
    "scrolled": true
   },
   "outputs": [
    {
     "name": "stdout",
     "output_type": "stream",
     "text": [
      "Enter a three-digit integer:121\n",
      "121 is a palindrome\n"
     ]
    }
   ],
   "source": [
    "n = eval(input('Enter a three-digit integer:'))\n",
    "if (n%10==n//100):\n",
    "    print(n,'is a palindrome')\n",
    "else:\n",
    "    print(n,'is not a palindrome')"
   ]
  },
  {
   "cell_type": "code",
   "execution_count": 24,
   "metadata": {},
   "outputs": [
    {
     "name": "stdout",
     "output_type": "stream",
     "text": [
      "Enter three edges:0,0,0\n",
      "false\n"
     ]
    }
   ],
   "source": [
    "r1,r2,r3 = eval(input('Enter three edges:'))\n",
    "r4 = r1 +r2\n",
    "r5 = r1 - r2\n",
    "if (r4>r3 and r5<r3):\n",
    "    s = r1 + r2 + r3\n",
    "    print('The perimeter is :',s)\n",
    "else:\n",
    "    print('false')"
   ]
  }
 ],
 "metadata": {
  "kernelspec": {
   "display_name": "Python 3",
   "language": "python",
   "name": "python3"
  },
  "language_info": {
   "codemirror_mode": {
    "name": "ipython",
    "version": 3
   },
   "file_extension": ".py",
   "mimetype": "text/x-python",
   "name": "python",
   "nbconvert_exporter": "python",
   "pygments_lexer": "ipython3",
   "version": "3.6.4"
  }
 },
 "nbformat": 4,
 "nbformat_minor": 2
}
