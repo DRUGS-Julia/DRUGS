{
 "cells": [
  {
   "cell_type": "code",
   "execution_count": 5,
   "metadata": {},
   "outputs": [
    {
     "name": "stdout",
     "output_type": "stream",
     "text": [
      "Enter a degree in Celsius: 5.5\n",
      "5.5 Celsius is 41.9 Fahrenheit\n"
     ]
    }
   ],
   "source": [
    "a = float(input('Enter a degree in Celsius: '))\n",
    "\n",
    "b = (9 / 5) * a + 32\n",
    "print('%0.1f Celsius is %0.1f Fahrenheit' %(a,b))\n",
    "   "
   ]
  },
  {
   "cell_type": "code",
   "execution_count": 32,
   "metadata": {},
   "outputs": [
    {
     "name": "stdout",
     "output_type": "stream",
     "text": [
      "Enter the radius  of a cylinder: 5.5,12\n",
      "The area is 95.0331\n",
      "The volume is 1140.4\n"
     ]
    }
   ],
   "source": [
    "\n",
    "radius,length = eval(input('Enter the radius  of a cylinder: '))\n",
    "area = radius * radius * 3.14159\n",
    "volume = area * length\n",
    "print('The area is %0.4f' %(area))\n",
    "print('The volume is %0.1f'%(volume))"
   ]
  },
  {
   "cell_type": "code",
   "execution_count": 34,
   "metadata": {},
   "outputs": [
    {
     "name": "stdout",
     "output_type": "stream",
     "text": [
      "Enter a value for feet: 16.5\n",
      "16.5 feet is 5.0325 meters\n"
     ]
    }
   ],
   "source": [
    "y = float(input('Enter a value for feet: '))\n",
    "m = y * 0.305\n",
    "print('%0.1f feet is %0.4f meters' %(y,m))"
   ]
  },
  {
   "cell_type": "code",
   "execution_count": 35,
   "metadata": {},
   "outputs": [
    {
     "name": "stdout",
     "output_type": "stream",
     "text": [
      "Enter the amount of water in kilograms: 55.5\n",
      "Enter the initial temperature: 3.5\n",
      "Enter the final temperature: 10.5\n",
      "The energy needed is 1625484.0\n"
     ]
    }
   ],
   "source": [
    "M = float(input('Enter the amount of water in kilograms: '))\n",
    "i = float(input('Enter the initial temperature: '))\n",
    "f = float(input('Enter the final temperature: '))\n",
    "Q = M * (f - i) *4184\n",
    "print('The energy needed is %0.1f' %(Q))"
   ]
  },
  {
   "cell_type": "code",
   "execution_count": 36,
   "metadata": {},
   "outputs": [
    {
     "name": "stdout",
     "output_type": "stream",
     "text": [
      "Enter balance and interest rate (e.g., 3 for 3%): 1000,3.5\n",
      "The interset is 2.91667\n"
     ]
    }
   ],
   "source": [
    "c,l = eval(input('Enter balance and interest rate (e.g., 3 for 3%): '))\n",
    "m = c * (l/1200)\n",
    "print('The interset is %0.5f' %(m))"
   ]
  },
  {
   "cell_type": "code",
   "execution_count": 44,
   "metadata": {},
   "outputs": [
    {
     "name": "stdout",
     "output_type": "stream",
     "text": [
      "Enter v0,v1, and t:5.5,50.9,4.5\n",
      "The average acceleration is 10.0889\n"
     ]
    }
   ],
   "source": [
    "v0,v1, t = eval(input('Enter v0,v1, and t:'))\n",
    "a = (v1-v0)/t\n",
    "print('The average acceleration is %0.4f' %(a))"
   ]
  },
  {
   "cell_type": "code",
   "execution_count": 79,
   "metadata": {},
   "outputs": [
    {
     "name": "stdout",
     "output_type": "stream",
     "text": [
      "Enter the monthly saving amount:100\n",
      "After the sixth month, the account value is 608.82\n"
     ]
    }
   ],
   "source": [
    "a= float(input('Enter the monthly saving amount:'))\n",
    "\n",
    "account= a * ((1+0.00417)**6+(1+0.00417)**5+(1+0.00417)**4+(1+0.00417)**3+(1+0.00417)**2+(1+0.00417)**1)\n",
    "\n",
    "print('After the sixth month, the account value is %0.2f' %(account))"
   ]
  }
 ],
 "metadata": {
  "kernelspec": {
   "display_name": "Python 3",
   "language": "python",
   "name": "python3"
  },
  "language_info": {
   "codemirror_mode": {
    "name": "ipython",
    "version": 3
   },
   "file_extension": ".py",
   "mimetype": "text/x-python",
   "name": "python",
   "nbconvert_exporter": "python",
   "pygments_lexer": "ipython3",
   "version": "3.6.4"
  }
 },
 "nbformat": 4,
 "nbformat_minor": 2
}
