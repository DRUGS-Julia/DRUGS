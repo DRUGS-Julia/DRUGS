{
 "cells": [
  {
   "cell_type": "code",
   "execution_count": 1,
   "metadata": {},
   "outputs": [
    {
     "name": "stdout",
     "output_type": "stream",
     "text": [
      "Enter the length from the center to a vertex:5.5\n",
      "The area of the pentagon is 71.92\n"
     ]
    }
   ],
   "source": [
    "import math\n",
    "r = float(input('Enter the length from the center to a vertex:'))\n",
    "s = 2 * r * math.sin(math.pi / 5)\n",
    "a = 5 * s * s / (4 * math.tan(math.pi / 5))\n",
    "print('The area of the pentagon is %0.2f' %(a))"
   ]
  },
  {
   "cell_type": "code",
   "execution_count": 9,
   "metadata": {},
   "outputs": [
    {
     "name": "stdout",
     "output_type": "stream",
     "text": [
      "Enter point 1 (latitude and longitude) in degrees:39.55,-116.25\n",
      "Enter point 2 (latitude and longitude) in degrees:41.5,87.37\n",
      "The distance between the two points is 10691.79183231593 km\n"
     ]
    }
   ],
   "source": [
    "import math\n",
    "x1,y1 = eval(input('Enter point 1 (latitude and longitude) in degrees:'))\n",
    "x2,y2 = eval(input('Enter point 2 (latitude and longitude) in degrees:'))\n",
    "x1 = math.radians(x1)\n",
    "x2 = math.radians(x2)\n",
    "y1 = math.radians(y1)\n",
    "y2 = math.radians(y2)\n",
    "r = 6371.01\n",
    "d = r * math.acos(math.sin(x1) * math.sin(x2) + math.cos(x1) * math.cos(x2) * math.cos(y1 - y2))\n",
    "print('The distance between the two points is', d,'km')"
   ]
  },
  {
   "cell_type": "code",
   "execution_count": 10,
   "metadata": {},
   "outputs": [
    {
     "name": "stdout",
     "output_type": "stream",
     "text": [
      "Enter the side:5.5\n",
      "The area of the pentagon is  52.044441367816255\n"
     ]
    }
   ],
   "source": [
    "import math\n",
    "s = eval(input('Enter the side:'))\n",
    "a = 5 * (s**2) / (4 * math.tan(math.pi/5))\n",
    "print('The area of the pentagon is ',a)"
   ]
  },
  {
   "cell_type": "code",
   "execution_count": 13,
   "metadata": {},
   "outputs": [
    {
     "name": "stdout",
     "output_type": "stream",
     "text": [
      "Enter the number of sides:5\n",
      "Enter the side:6.5\n",
      "The area of the pentagon is  72.69017017488386\n"
     ]
    }
   ],
   "source": [
    "import math\n",
    "i = 3\n",
    "n = eval(input('Enter the number of sides:'))\n",
    "s = eval(input('Enter the side:'))\n",
    "a = n * (s**2) / (4 * math.tan(math.pi/n))\n",
    "if (n >= i):\n",
    "    print('The area of the pentagon is ',a)\n",
    "else:\n",
    "    print('Please input the integer of higher two!')"
   ]
  },
  {
   "cell_type": "code",
   "execution_count": 17,
   "metadata": {},
   "outputs": [
    {
     "name": "stdout",
     "output_type": "stream",
     "text": [
      "Enter an ASCII code:69\n",
      "The character is E\n"
     ]
    }
   ],
   "source": [
    "n = eval(input('Enter an ASCII code:'))\n",
    "alp = chr(n)\n",
    "print('The character is',alp)"
   ]
  },
  {
   "cell_type": "code",
   "execution_count": 29,
   "metadata": {
    "scrolled": true
   },
   "outputs": [
    {
     "name": "stdout",
     "output_type": "stream",
     "text": [
      "Enter employee’s name:Smith\n",
      "Enter number of hours worked in a week:10\n",
      "Enter hourly pay rate:9.75\n",
      "Enter federal tax withholding rate:0.20\n",
      "Enter state tax withholding rate:0.09\n",
      "\n",
      " Employee Name: Smith\n",
      "Hours Worked: 10\n",
      "Pay Rate: 9.75\n",
      "Cross Pay: 97.5\n",
      "Deduction: \n",
      "  Federal withholding: $ 19.5 \n",
      "  State Withholding: $ 8.775 \n",
      "  Total Deduction: $ 28.275\n",
      "Net Pay: $ 69.225\n"
     ]
    }
   ],
   "source": [
    "n = input('Enter employee’s name:')\n",
    "h = eval(input('Enter number of hours worked in a week:'))\n",
    "hr = eval(input('Enter hourly pay rate:'))\n",
    "ft = eval(input('Enter federal tax withholding rate:'))\n",
    "st = eval(input('Enter state tax withholding rate:'))\n",
    "\n",
    "cp = hr * h\n",
    "fw = cp * ft\n",
    "sw = cp * st\n",
    "td = fw + sw\n",
    "np = cp - td\n",
    "\n",
    "print('\\n','Employee Name:',n)\n",
    "print('Hours Worked:',h)\n",
    "print('Pay Rate:',hr)\n",
    "print('Cross Pay:',cp)\n",
    "print('Deduction:','\\n',' Federal withholding:','$',fw,\n",
    "      '\\n',' State Withholding:','$',sw,'\\n',\n",
    "      ' Total Deduction:','$',td)\n",
    "print('Net Pay:','$',np)"
   ]
  },
  {
   "cell_type": "code",
   "execution_count": 7,
   "metadata": {},
   "outputs": [
    {
     "name": "stdout",
     "output_type": "stream",
     "text": [
      "Enter an integer:3125\n",
      "The reversed number is 5213\n"
     ]
    }
   ],
   "source": [
    "n = eval(input('Enter an integer:'))\n",
    "s = ((n%10)*1000)+(((n//10)%10)*100)+(((n//100)%10)*10)+(n//1000)\n",
    "print('The reversed number is',s)"
   ]
  },
  {
   "cell_type": "code",
   "execution_count": null,
   "metadata": {},
   "outputs": [],
   "source": [
    "\n"
   ]
  }
 ],
 "metadata": {
  "kernelspec": {
   "display_name": "Python 3",
   "language": "python",
   "name": "python3"
  },
  "language_info": {
   "codemirror_mode": {
    "name": "ipython",
    "version": 3
   },
   "file_extension": ".py",
   "mimetype": "text/x-python",
   "name": "python",
   "nbconvert_exporter": "python",
   "pygments_lexer": "ipython3",
   "version": "3.6.4"
  }
 },
 "nbformat": 4,
 "nbformat_minor": 2
}
